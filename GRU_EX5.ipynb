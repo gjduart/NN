{
  "nbformat": 4,
  "nbformat_minor": 0,
  "metadata": {
    "colab": {
      "name": "GRU - EX5.ipynb",
      "provenance": [],
      "collapsed_sections": [],
      "authorship_tag": "ABX9TyM+hLSnrug84lQp9bF4wXHg",
      "include_colab_link": true
    },
    "kernelspec": {
      "name": "python3",
      "display_name": "Python 3"
    },
    "language_info": {
      "name": "python"
    },
    "accelerator": "GPU"
  },
  "cells": [
    {
      "cell_type": "markdown",
      "metadata": {
        "id": "view-in-github",
        "colab_type": "text"
      },
      "source": [
        "<a href=\"https://colab.research.google.com/github/gjduart/NN/blob/main/GRU_EX5.ipynb\" target=\"_parent\"><img src=\"https://colab.research.google.com/assets/colab-badge.svg\" alt=\"Open In Colab\"/></a>"
      ]
    },
    {
      "cell_type": "markdown",
      "metadata": {
        "id": "dZ2CgCtYzsFP"
      },
      "source": [
        "ALUNOS: Gabriel Jonas da Silva Duarte, Mayanna Rodrigues Ferreira"
      ]
    },
    {
      "cell_type": "markdown",
      "metadata": {
        "id": "2-U43bFxz08I"
      },
      "source": [
        "Realizando o download do dataset para pasta temporária"
      ]
    },
    {
      "cell_type": "code",
      "metadata": {
        "id": "uoB4IOHx-m1q"
      },
      "source": [
        "!wget -q --no-check-certificate \\\n",
        "    \"https://www.dropbox.com/s/3imrfuur3is3hn2/chennai_reviews.csv?dl=0\" \\\n",
        "    -O \"/tmp/chennai_reviews.csv\""
      ],
      "execution_count": null,
      "outputs": []
    },
    {
      "cell_type": "markdown",
      "metadata": {
        "id": "G7_Gxmm50RVY"
      },
      "source": [
        "Realizando a importação das biblíotecas"
      ]
    },
    {
      "cell_type": "code",
      "metadata": {
        "id": "8mdAvB750Luv"
      },
      "source": [
        "import pandas as pd\n",
        "import numpy as np\n",
        "import torch\n",
        "import torch.nn as nn\n",
        "import torch.nn.functional as F\n",
        "import torch.optim as optim\n",
        "import sys\n",
        "from torchtext.vocab import FastText\n",
        "from torchtext.legacy import data\n",
        "from torchtext.legacy.data import Dataset, Example\n",
        "from torchtext.legacy.data import BucketIterator\n",
        "\n",
        "import matplotlib.pyplot as plt\n",
        "import seaborn as sns\n"
      ],
      "execution_count": null,
      "outputs": []
    },
    {
      "cell_type": "markdown",
      "metadata": {
        "id": "1ZSnkUPLz5-b"
      },
      "source": [
        "vamos começar a tratar a nossa base de dados"
      ]
    },
    {
      "cell_type": "code",
      "metadata": {
        "colab": {
          "base_uri": "https://localhost:8080/"
        },
        "id": "MBY0oHojIxos",
        "outputId": "b77e9361-a08f-4479-c0b4-1736521772a9"
      },
      "source": [
        "#Importando o CSV\n",
        "df = pd.read_csv('/tmp/chennai_reviews.csv')\n",
        "#localizando as colunas onde não estão nomeadas e definindo meu dataframe com apenas as colunas válidas\n",
        "df = df.loc[:, ~df.columns.str.contains('^Unnamed')] \n",
        "values = {'Hotel_name': 'Unavailable', 'Review_Title': 'Unavailable', 'Review_Text': 'Unavailable'}\n",
        "df = df.fillna(value=values)\n",
        "\n",
        "#substituido o os dados sujos na coluna sentiment\n",
        "df['Sentiment'] = df['Sentiment'].str.replace(r'[^1-3]','')\n",
        "\n",
        "\n",
        "#removendo espaço em branco\n",
        "df['Sentiment'] = df['Sentiment'].str.replace(r'[s+]','1')\n",
        "\n",
        "#preenchendo os valores ausentes\n",
        "df['Sentiment'] = df['Sentiment'].fillna('2')\n",
        "\n",
        "#Removendo as colunas que não serão utilizadas\n",
        "df = df.drop(['Rating_Percentage','Review_Title','Hotel_name'], axis=1)\n",
        "\n",
        "#deixando todos os textos em lower case\n",
        "df['Review_Text'] = df['Review_Text'].apply(lambda x:x.lower())\n",
        "\n",
        "#renomeando as colunas\n",
        "df.columns = ['text', 'sentiment']\n",
        "df['sentiment'].astype(str)\n",
        "len(df['sentiment'])"
      ],
      "execution_count": null,
      "outputs": [
        {
          "output_type": "execute_result",
          "data": {
            "text/plain": [
              "4768"
            ]
          },
          "metadata": {
            "tags": []
          },
          "execution_count": 33
        }
      ]
    },
    {
      "cell_type": "code",
      "metadata": {
        "id": "Iv8eAJ-0gRIP"
      },
      "source": [
        "#Realizando as conversão\n",
        "for i in range(len(df['sentiment']) ):\n",
        "    if df['sentiment'][i] == '':\n",
        "      df['sentiment'][i] = np.random.randint(1,3)\n",
        "\n",
        "    else: \n",
        "      df['sentiment'][i] = int(df['sentiment'][i])\n"
      ],
      "execution_count": null,
      "outputs": []
    },
    {
      "cell_type": "code",
      "metadata": {
        "colab": {
          "base_uri": "https://localhost:8080/"
        },
        "id": "YQ9tV4gDMWsY",
        "outputId": "9c30ce47-18d0-4b20-b769-84f0e97ff32f"
      },
      "source": [
        "df['sentiment'].unique()"
      ],
      "execution_count": null,
      "outputs": [
        {
          "output_type": "execute_result",
          "data": {
            "text/plain": [
              "array([3, 1, 2, 122], dtype=object)"
            ]
          },
          "metadata": {
            "tags": []
          },
          "execution_count": 35
        }
      ]
    },
    {
      "cell_type": "markdown",
      "metadata": {
        "id": "RwjW8cf51AF-"
      },
      "source": [
        "Criando vocabulário"
      ]
    },
    {
      "cell_type": "code",
      "metadata": {
        "id": "EwvEeaLvb5MW"
      },
      "source": [
        "\n",
        "embedding = FastText('simple')"
      ],
      "execution_count": null,
      "outputs": []
    },
    {
      "cell_type": "code",
      "metadata": {
        "id": "sIa4T8iC-q4N"
      },
      "source": [
        "#Setando uma Seed\n",
        "SEED = 1234\n",
        "\n",
        "torch.manual_seed(SEED)\n",
        "torch.backends.cudnn.deterministic = True\n",
        "#tokenize o texto para SPACY(inglês)\n",
        "TEXT = data.Field(\n",
        "    sequential=True,\n",
        "    tokenize='spacy', \n",
        "    lower=True\n",
        ")\n",
        "LABEL = data.Field(sequential=False, use_vocab=False)"
      ],
      "execution_count": null,
      "outputs": []
    },
    {
      "cell_type": "code",
      "metadata": {
        "id": "hemhz-HvNDSW"
      },
      "source": [
        "#Como os dados são importados de um csv, para transformar num torchtext dataset temos que aplicar um preprocess manual\n",
        "preprocessed_text = df['text'].apply(\n",
        "    lambda x: TEXT.preprocess(x)\n",
        ")\n",
        "preprocessed_sentiment = df['sentiment'].apply(\n",
        "    lambda x: LABEL.preprocess(x)\n",
        ")\n"
      ],
      "execution_count": null,
      "outputs": []
    },
    {
      "cell_type": "code",
      "metadata": {
        "id": "AflK15rcP7Sq"
      },
      "source": [
        "#Formando o vocabulário\n",
        "TEXT.build_vocab(\n",
        "    preprocessed_text, \n",
        "    vectors='fasttext.simple.300d'\n",
        ")\n",
        "ltoi = {l: i for i, l in enumerate(df['sentiment'].unique())}\n",
        "df['sentiment'] = df['sentiment'].apply(lambda y: ltoi[y])"
      ],
      "execution_count": null,
      "outputs": []
    },
    {
      "cell_type": "markdown",
      "metadata": {
        "id": "QNwAo_dO2WIi"
      },
      "source": [
        "As palavras mais frequentes do vocabulário com seus tokens\n"
      ]
    },
    {
      "cell_type": "code",
      "metadata": {
        "colab": {
          "base_uri": "https://localhost:8080/"
        },
        "id": "mXG6fg4XQueN",
        "outputId": "e361ab33-e3f7-4691-cc8c-e36077a7d506"
      },
      "source": [
        "print(TEXT.vocab.freqs.most_common(20))"
      ],
      "execution_count": null,
      "outputs": [
        {
          "output_type": "stream",
          "text": [
            "[('.', 16355), ('the', 9627), ('and', 6484), (',', 4851), ('was', 4747), ('is', 4723), ('hotel', 4644), ('good', 4304), ('to', 4168), ('in', 3250), ('very', 3174), ('a', 2946), ('for', 2937), ('i', 2541), ('of', 2224), ('room', 2130), ('it', 1976), ('not', 1934), ('stay', 1770), ('are', 1632)]\n"
          ],
          "name": "stdout"
        }
      ]
    },
    {
      "cell_type": "code",
      "metadata": {
        "id": "amUU3WtgRkQ2"
      },
      "source": [
        "#Classe para realizar a conversão manual de categorical para int\n",
        "class DataFrameDataset(data.Dataset):\n",
        "    def __init__(self, df: pd.DataFrame, fields: list):\n",
        "        super(DataFrameDataset, self).__init__(\n",
        "            [\n",
        "                Example.fromlist(list(r), fields) \n",
        "                for i, r in df.iterrows()\n",
        "            ], \n",
        "            fields\n",
        "        )\n"
      ],
      "execution_count": null,
      "outputs": []
    },
    {
      "cell_type": "markdown",
      "metadata": {
        "id": "XvNs5e5w1xnO"
      },
      "source": [
        "exibir as colunas"
      ]
    },
    {
      "cell_type": "code",
      "metadata": {
        "id": "yMKytAt5cipN"
      },
      "source": [
        "for i, r in df.iterrows():\n",
        "    print(list(r.values))"
      ],
      "execution_count": null,
      "outputs": []
    },
    {
      "cell_type": "markdown",
      "metadata": {
        "id": "WPUa6a6m2CaY"
      },
      "source": [
        "Realizando o split do dataset"
      ]
    },
    {
      "cell_type": "code",
      "metadata": {
        "id": "EIiKzZ6VRotr"
      },
      "source": [
        "train_dataset, test_dataset = DataFrameDataset(\n",
        "    df=df, \n",
        "    fields=(\n",
        "        ('text', TEXT),\n",
        "        ('label', LABEL)\n",
        "    )\n",
        ").split()"
      ],
      "execution_count": null,
      "outputs": []
    },
    {
      "cell_type": "markdown",
      "metadata": {
        "id": "O9C-T7mz2PEK"
      },
      "source": [
        "Definindo um tamanho do batch, e o dispositivo a ser executado"
      ]
    },
    {
      "cell_type": "code",
      "metadata": {
        "id": "Znlo-IJDSVDc"
      },
      "source": [
        "BATCH_SIZE =  128\n",
        "\n",
        "device = torch.device('cuda' if torch.cuda.is_available() else 'cpu')\n",
        "\n",
        "#separando os iterators \n",
        "train_iter, test_iter = BucketIterator.splits(\n",
        "    datasets=(train_dataset, test_dataset), \n",
        "    batch_size=BATCH_SIZE,\n",
        "    sort=False,\n",
        "    device=device\n",
        ")"
      ],
      "execution_count": null,
      "outputs": []
    },
    {
      "cell_type": "code",
      "metadata": {
        "id": "mH__bfQAS7lH"
      },
      "source": [
        "#declarando uma class para passar a parametrização para o nosso modelo\n",
        "class ModelParam(object):\n",
        "    def __init__(self, param_dict: dict = dict()):\n",
        "        self.input_size = param_dict.get('input_size', 0)\n",
        "        self.vocab_size = param_dict.get('vocab_size')\n",
        "        self.embedding_dim = param_dict.get('embedding_dim', 1)\n",
        "        self.target_dim = param_dict.get('target_dim', 4)\n",
        "        self.hidden_dim = param_dict.get('hidden_dim', 16)\n",
        "\n",
        "\n",
        " #modelo    \n",
        " #A dimensão de entrada é a dimensão dos vetores one-hot, que é igual ao tamanho do vocabulário\n",
        "class GRU(nn.Module):\n",
        "    def __init__(self, model_param: ModelParam):\n",
        "        super().__init__()\n",
        "        self.embedding = nn.Embedding(model_param.vocab_size,model_param.embedding_dim) \n",
        "        self.gru = nn.GRU(model_param.embedding_dim, model_param.hidden_dim)\n",
        "        self.fc = nn.Linear(model_param.hidden_dim, model_param.target_dim)\n",
        "        self.relu = F.relu\n",
        "        \n",
        "    def forward(self, x):\n",
        "\n",
        "        embedded = self.embedding(x)\n",
        "        \n",
        "        #embedded = [sent len, batch size, emb dim]\n",
        "        \n",
        "        output, hidden = self.gru(embedded)\n",
        "        \n",
        "        #output = [sent len, batch size, hid dim]\n",
        "        #hidden = [1, batch size, hid dim]\n",
        "        return self.fc(hidden.squeeze(0))\n",
        "        #return features"
      ],
      "execution_count": null,
      "outputs": []
    },
    {
      "cell_type": "code",
      "metadata": {
        "colab": {
          "base_uri": "https://localhost:8080/"
        },
        "id": "vmWrIgYuT_ua",
        "outputId": "89c231c6-c0cc-45c0-ff93-54fccb50b749"
      },
      "source": [
        "# Instanciando os parametros\n",
        "\n",
        "model_param = ModelParam(\n",
        "    param_dict=dict(\n",
        "        vocab_size=len(TEXT.vocab),\n",
        "       # input_size=5\n",
        "    )\n",
        ")\n",
        "#Instanciando meu modelo\n",
        "model = GRU(model_param)\n",
        "model.to(device) #Caso haja CUDA\n",
        "loss_function = nn.CrossEntropyLoss() #Definindo minha função de Loss, ou Criterion\n",
        "optimizer = optim.Adam(model.parameters(), lr=0.001,weight_decay=5e-6) #Passando meus Parametros para o optimizado\n",
        "epochs = 120 #Numero de epocas de treinamento\n",
        "\n",
        "losses_train = []\n",
        "losses_test = []\n",
        "for epoch in range(epochs):\n",
        "    epoch_losses = list()\n",
        "    for batch in train_iter:\n",
        "        optimizer.zero_grad()\n",
        "        \n",
        "        prediction = model(batch.text).squeeze(1)\n",
        "        loss = loss_function(prediction, batch.label)\n",
        "\n",
        "        loss.backward()\n",
        "        optimizer.step()\n",
        "        \n",
        "        epoch_losses.append(loss.item())\n",
        "\n",
        "    \n",
        "    test_losses = list()\n",
        "    for batch in test_iter:\n",
        "        with torch.no_grad():\n",
        "            optimizer.zero_grad()\n",
        "            prediction = model(batch.text).squeeze(1)\n",
        "            loss = loss_function(prediction, batch.label)\n",
        "            \n",
        "            test_losses.append(loss.item())\n",
        "    mean_Trainloss = np.mean(epoch_losses)\n",
        "    mean_TestLoss =  np.mean(test_losses)\n",
        "    print(f'epoca:{epoch} , train_loss :{mean_Trainloss:.3f}, test loss: {mean_TestLoss:.3f} ')\n",
        "    losses_train.append(mean_Trainloss)\n",
        "    losses_test.append(mean_TestLoss)"
      ],
      "execution_count": null,
      "outputs": [
        {
          "output_type": "stream",
          "text": [
            "epoca:0 , train_loss :1.160, test loss: 1.058 \n",
            "epoca:1 , train_loss :0.978, test loss: 0.888 \n",
            "epoca:2 , train_loss :0.842, test loss: 0.829 \n",
            "epoca:3 , train_loss :0.822, test loss: 0.812 \n",
            "epoca:4 , train_loss :0.804, test loss: 0.805 \n",
            "epoca:5 , train_loss :0.797, test loss: 0.800 \n",
            "epoca:6 , train_loss :0.810, test loss: 0.798 \n",
            "epoca:7 , train_loss :0.796, test loss: 0.796 \n",
            "epoca:8 , train_loss :0.799, test loss: 0.794 \n",
            "epoca:9 , train_loss :0.817, test loss: 0.794 \n",
            "epoca:10 , train_loss :0.806, test loss: 0.792 \n",
            "epoca:11 , train_loss :0.796, test loss: 0.791 \n",
            "epoca:12 , train_loss :0.820, test loss: 0.792 \n",
            "epoca:13 , train_loss :0.813, test loss: 0.791 \n",
            "epoca:14 , train_loss :0.799, test loss: 0.790 \n",
            "epoca:15 , train_loss :0.786, test loss: 0.791 \n",
            "epoca:16 , train_loss :0.785, test loss: 0.790 \n",
            "epoca:17 , train_loss :0.791, test loss: 0.789 \n",
            "epoca:18 , train_loss :0.796, test loss: 0.789 \n",
            "epoca:19 , train_loss :0.803, test loss: 0.789 \n",
            "epoca:20 , train_loss :0.799, test loss: 0.789 \n",
            "epoca:21 , train_loss :0.793, test loss: 0.788 \n",
            "epoca:22 , train_loss :0.794, test loss: 0.788 \n",
            "epoca:23 , train_loss :0.794, test loss: 0.788 \n",
            "epoca:24 , train_loss :0.793, test loss: 0.788 \n",
            "epoca:25 , train_loss :0.797, test loss: 0.788 \n",
            "epoca:26 , train_loss :0.812, test loss: 0.789 \n",
            "epoca:27 , train_loss :0.789, test loss: 0.789 \n",
            "epoca:28 , train_loss :0.792, test loss: 0.788 \n",
            "epoca:29 , train_loss :0.788, test loss: 0.788 \n",
            "epoca:30 , train_loss :0.798, test loss: 0.788 \n",
            "epoca:31 , train_loss :0.810, test loss: 0.789 \n",
            "epoca:32 , train_loss :0.797, test loss: 0.788 \n",
            "epoca:33 , train_loss :0.795, test loss: 0.788 \n",
            "epoca:34 , train_loss :0.789, test loss: 0.788 \n",
            "epoca:35 , train_loss :0.817, test loss: 0.789 \n",
            "epoca:36 , train_loss :0.788, test loss: 0.788 \n",
            "epoca:37 , train_loss :0.811, test loss: 0.788 \n",
            "epoca:38 , train_loss :0.805, test loss: 0.788 \n",
            "epoca:39 , train_loss :0.793, test loss: 0.788 \n",
            "epoca:40 , train_loss :0.792, test loss: 0.788 \n",
            "epoca:41 , train_loss :0.782, test loss: 0.788 \n",
            "epoca:42 , train_loss :0.797, test loss: 0.788 \n",
            "epoca:43 , train_loss :0.792, test loss: 0.788 \n",
            "epoca:44 , train_loss :0.796, test loss: 0.788 \n",
            "epoca:45 , train_loss :0.806, test loss: 0.788 \n",
            "epoca:46 , train_loss :0.793, test loss: 0.788 \n",
            "epoca:47 , train_loss :0.787, test loss: 0.788 \n",
            "epoca:48 , train_loss :0.810, test loss: 0.790 \n",
            "epoca:49 , train_loss :0.800, test loss: 0.788 \n",
            "epoca:50 , train_loss :0.810, test loss: 0.789 \n",
            "epoca:51 , train_loss :0.803, test loss: 0.788 \n",
            "epoca:52 , train_loss :0.799, test loss: 0.788 \n",
            "epoca:53 , train_loss :0.793, test loss: 0.788 \n",
            "epoca:54 , train_loss :0.792, test loss: 0.788 \n",
            "epoca:55 , train_loss :0.798, test loss: 0.788 \n",
            "epoca:56 , train_loss :0.794, test loss: 0.788 \n",
            "epoca:57 , train_loss :0.790, test loss: 0.789 \n",
            "epoca:58 , train_loss :0.796, test loss: 0.788 \n",
            "epoca:59 , train_loss :0.793, test loss: 0.788 \n",
            "epoca:60 , train_loss :0.793, test loss: 0.788 \n",
            "epoca:61 , train_loss :0.799, test loss: 0.788 \n",
            "epoca:62 , train_loss :0.795, test loss: 0.788 \n",
            "epoca:63 , train_loss :0.788, test loss: 0.788 \n",
            "epoca:64 , train_loss :0.783, test loss: 0.788 \n",
            "epoca:65 , train_loss :0.795, test loss: 0.788 \n",
            "epoca:66 , train_loss :0.811, test loss: 0.788 \n",
            "epoca:67 , train_loss :0.796, test loss: 0.788 \n",
            "epoca:68 , train_loss :0.793, test loss: 0.788 \n",
            "epoca:69 , train_loss :0.787, test loss: 0.788 \n",
            "epoca:70 , train_loss :0.800, test loss: 0.790 \n",
            "epoca:71 , train_loss :0.805, test loss: 0.789 \n",
            "epoca:72 , train_loss :0.798, test loss: 0.789 \n",
            "epoca:73 , train_loss :0.802, test loss: 0.789 \n",
            "epoca:74 , train_loss :0.788, test loss: 0.788 \n",
            "epoca:75 , train_loss :0.807, test loss: 0.789 \n",
            "epoca:76 , train_loss :0.799, test loss: 0.789 \n",
            "epoca:77 , train_loss :0.808, test loss: 0.788 \n",
            "epoca:78 , train_loss :0.800, test loss: 0.788 \n",
            "epoca:79 , train_loss :0.791, test loss: 0.788 \n",
            "epoca:80 , train_loss :0.792, test loss: 0.788 \n",
            "epoca:81 , train_loss :0.787, test loss: 0.789 \n",
            "epoca:82 , train_loss :0.793, test loss: 0.789 \n",
            "epoca:83 , train_loss :0.805, test loss: 0.788 \n",
            "epoca:84 , train_loss :0.787, test loss: 0.788 \n",
            "epoca:85 , train_loss :0.794, test loss: 0.787 \n",
            "epoca:86 , train_loss :0.798, test loss: 0.788 \n",
            "epoca:87 , train_loss :0.784, test loss: 0.787 \n",
            "epoca:88 , train_loss :0.777, test loss: 0.786 \n",
            "epoca:89 , train_loss :0.791, test loss: 0.786 \n",
            "epoca:90 , train_loss :0.780, test loss: 0.784 \n",
            "epoca:91 , train_loss :0.772, test loss: 0.783 \n",
            "epoca:92 , train_loss :0.770, test loss: 0.778 \n",
            "epoca:93 , train_loss :0.759, test loss: 0.773 \n",
            "epoca:94 , train_loss :0.756, test loss: 0.765 \n",
            "epoca:95 , train_loss :0.769, test loss: 0.769 \n",
            "epoca:96 , train_loss :0.721, test loss: 0.750 \n",
            "epoca:97 , train_loss :0.696, test loss: 0.752 \n",
            "epoca:98 , train_loss :0.688, test loss: 0.729 \n",
            "epoca:99 , train_loss :0.654, test loss: 0.732 \n",
            "epoca:100 , train_loss :0.634, test loss: 0.708 \n",
            "epoca:101 , train_loss :0.621, test loss: 0.710 \n",
            "epoca:102 , train_loss :0.606, test loss: 0.702 \n",
            "epoca:103 , train_loss :0.613, test loss: 0.697 \n",
            "epoca:104 , train_loss :0.581, test loss: 0.689 \n",
            "epoca:105 , train_loss :0.581, test loss: 0.687 \n",
            "epoca:106 , train_loss :0.552, test loss: 0.685 \n",
            "epoca:107 , train_loss :0.556, test loss: 0.679 \n",
            "epoca:108 , train_loss :0.531, test loss: 0.686 \n",
            "epoca:109 , train_loss :0.529, test loss: 0.703 \n",
            "epoca:110 , train_loss :0.522, test loss: 0.682 \n",
            "epoca:111 , train_loss :0.529, test loss: 0.667 \n",
            "epoca:112 , train_loss :0.504, test loss: 0.666 \n",
            "epoca:113 , train_loss :0.510, test loss: 0.667 \n",
            "epoca:114 , train_loss :0.496, test loss: 0.665 \n",
            "epoca:115 , train_loss :0.495, test loss: 0.677 \n",
            "epoca:116 , train_loss :0.486, test loss: 0.672 \n",
            "epoca:117 , train_loss :0.492, test loss: 0.674 \n",
            "epoca:118 , train_loss :0.483, test loss: 0.670 \n",
            "epoca:119 , train_loss :0.466, test loss: 0.664 \n"
          ],
          "name": "stdout"
        }
      ]
    },
    {
      "cell_type": "code",
      "metadata": {
        "colab": {
          "base_uri": "https://localhost:8080/",
          "height": 268
        },
        "id": "QsA_dfiBtfu5",
        "outputId": "64b80332-2326-45e0-acb7-ae0b694c119f"
      },
      "source": [
        "\n",
        "sns.set()\n",
        "\n",
        "plt.plot(np.array(losses_train), label='loss treinamento')\n",
        "plt.plot(np.array(losses_test), label='loss teste')\n",
        "plt.legend()\n",
        "plt.show()"
      ],
      "execution_count": null,
      "outputs": [
        {
          "output_type": "display_data",
          "data": {
            "image/png": "[encoded data removed]",
            "text/plain": [
              "<Figure size 432x288 with 1 Axes>"
            ]
          },
          "metadata": {
            "tags": []
          }
        }
      ]
    }
  ]
}