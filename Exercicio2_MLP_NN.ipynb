{
  "nbformat": 4,
  "nbformat_minor": 0,
  "metadata": {
    "colab": {
      "name": "Exercicio2 - MLP - NN.ipynb",
      "provenance": [],
      "collapsed_sections": [],
      "toc_visible": true,
      "include_colab_link": true
    },
    "kernelspec": {
      "name": "python3",
      "display_name": "Python 3"
    }
  },
  "cells": [
    {
      "cell_type": "markdown",
      "metadata": {
        "id": "view-in-github",
        "colab_type": "text"
      },
      "source": [
        "<a href=\"https://colab.research.google.com/github/gjduart/NN/blob/main/Exercicio2_MLP_NN.ipynb\" target=\"_parent\"><img src=\"https://colab.research.google.com/assets/colab-badge.svg\" alt=\"Open In Colab\"/></a>"
      ]
    },
    {
      "cell_type": "markdown",
      "metadata": {
        "id": "bwC5cBrxkBqq"
      },
      "source": [
        "Alunos : Gabriel Jonas da Silva Duarte, Mayanna Rodrigues Ferreira \r\n",
        "\r\n"
      ]
    },
    {
      "cell_type": "markdown",
      "metadata": {
        "id": "g0_Ib1uzFXgz"
      },
      "source": [
        "Baixando dataset salvando em uma pasta temporaria \r\n"
      ]
    },
    {
      "cell_type": "code",
      "metadata": {
        "colab": {
          "base_uri": "https://localhost:8080/"
        },
        "id": "Tjx7Ih2hcztV",
        "outputId": "36b86825-6563-4c3d-ae43-b425fa2145eb"
      },
      "source": [
        "!wget --no-check-certificate \\\r\n",
        "    \"https://www.dropbox.com/s/s2cyx82uxsv03rq/dados-ex5.txt?dl=0\" \\\r\n",
        "    -O \"/tmp/dados-ex5.txt\"\r\n",
        "\r\n"
      ],
      "execution_count": null,
      "outputs": [
        {
          "output_type": "stream",
          "text": [
            "/tmp/ogbn-arxiv/titleabs.tsv.gz: No such file or directory\n"
          ],
          "name": "stdout"
        }
      ]
    },
    {
      "cell_type": "markdown",
      "metadata": {
        "id": "yHyJkZD4F0Qq"
      },
      "source": [
        "Importando bibliotecas \r\n",
        "Carragando os dados, convertendo para tensor e separando os X e os Y  "
      ]
    },
    {
      "cell_type": "code",
      "metadata": {
        "id": "0tfEShFKfV2K"
      },
      "source": [
        "import numpy as np \r\n",
        "import torch\r\n",
        "from torch.nn import Linear\r\n",
        "import torch.nn.functional as F\r\n",
        "\r\n",
        "dataset1 = np.genfromtxt('/tmp/dados-ex5.txt', delimiter=',')\r\n",
        "dataset1 = torch.from_numpy(dataset1)\r\n",
        "x = dataset1[:,:-1]\r\n",
        "y = dataset1[:,-1]\r\n",
        "y = y.reshape(-1,1)\r\n",
        "\r\n",
        "x = torch.FloatTensor(x.float())\r\n",
        "y = y.type(torch.LongTensor)"
      ],
      "execution_count": null,
      "outputs": []
    },
    {
      "cell_type": "markdown",
      "metadata": {
        "id": "MzGqeuquGHnC"
      },
      "source": [
        "Separando a quantidade de dados para treino, teste e validação"
      ]
    },
    {
      "cell_type": "code",
      "metadata": {
        "id": "2iiUiGldhEGb"
      },
      "source": [
        "n_train = 0.6 * y.shape[0]\r\n",
        "n_validation = 0.2 * y.shape[0]\r\n",
        "n_test = 0.2 * y.shape[0]\r\n",
        "\r\n",
        "#Split data \r\n",
        "x_train = x[:int(n_train),:]\r\n",
        "x_validation = x[int(n_train):int(n_train+n_validation),:]\r\n",
        "x_test = x[int(n_train+n_validation):int(n_train+n_validation+n_test),:]\r\n",
        "\r\n",
        "y_train = y[:int(n_train),:]\r\n",
        "y_validation = y[int(n_train):int(n_train+n_validation),:]\r\n",
        "y_test = y[int(n_train+n_validation):int(n_train+n_validation+n_test),:]\r\n",
        "y_train = y_train.reshape(-1)\r\n"
      ],
      "execution_count": null,
      "outputs": []
    },
    {
      "cell_type": "markdown",
      "metadata": {
        "id": "ZBqp8GzsGUoR"
      },
      "source": [
        "Definindo o modelo\r\n",
        "\r\n",
        "\r\n",
        "\r\n",
        "\r\n"
      ]
    },
    {
      "cell_type": "code",
      "metadata": {
        "id": "N75owGeVefRr"
      },
      "source": [
        "class MLP(torch.nn.Module):\r\n",
        "    def __init__(self,input_dim, hidden_layers,num_classes):\r\n",
        "        super(MLP, self).__init__()\r\n",
        "        torch.manual_seed(12345)\r\n",
        "        self.lin1 = Linear(input_dim, hidden_layers)\r\n",
        "        self.lin2 = Linear(hidden_layers, num_classes)\r\n",
        "\r\n",
        "    def forward(self, x):\r\n",
        "        x = self.lin1(x)\r\n",
        "        x = x.relu()\r\n",
        "        x = F.dropout(x, p=0.5, training=self.training)\r\n",
        "        x = self.lin2(x)\r\n",
        "        return x\r\n"
      ],
      "execution_count": null,
      "outputs": []
    },
    {
      "cell_type": "markdown",
      "metadata": {
        "id": "qBpEJAbiGUdU"
      },
      "source": [
        "Definindo a funções de treino, validação, teste \r\n",
        "\r\n",
        "\r\n",
        "\r\n"
      ]
    },
    {
      "cell_type": "code",
      "metadata": {
        "id": "u5wOq_Steqac"
      },
      "source": [
        "def train(model,x_train,y_train,criterion,optimizer):\r\n",
        "      model.train()\r\n",
        "      optimizer.zero_grad()  # Limpa os gradientes do otimizador\r\n",
        "      out = model(x_train)  # Realiza um passo do forward\r\n",
        "      loss = criterion(out, y_train)  # Computa a loss baseado nos nós de treinamento.\r\n",
        "      loss.backward()  # Deriva os gradients.\r\n",
        "      optimizer.step()  # atualiza os parametros.\r\n",
        "      return loss\r\n",
        "\r\n",
        "@torch.no_grad()      \r\n",
        "def validation(model,x_validation,y_validation):\r\n",
        "      model.eval()\r\n",
        "      out = model(x_validation)\r\n",
        "      pred = out.argmax(dim=1)  # Usa a classe com a maior probabilidade.\r\n",
        "      test_correct = pred == y_validation  # Checando as classes.\r\n",
        "      validation_acc = int(test_correct.sum()) / int(np.ravel(y_validation.numpy().shape,order='C')[0])  # calculando a acuracia\r\n",
        "      return validation_acc\r\n",
        " \r\n",
        "@torch.no_grad()\r\n",
        "def test(model,x_test,y_test):\r\n",
        "      model.eval()\r\n",
        "      out = model(x_test)\r\n",
        "      pred = out.argmax(dim=1)  # Usa a classe com a maior probabilidade.\r\n",
        "      test_correct = pred == y_test  # Checando as classes.\r\n",
        "      test_acc = int(test_correct.sum()) / int(np.ravel(y_test.numpy().shape,order='C')[0])  # calculando a acuracia\r\n",
        "      return test_acc\r\n"
      ],
      "execution_count": null,
      "outputs": []
    },
    {
      "cell_type": "markdown",
      "metadata": {
        "id": "jiiekGhpDc6f"
      },
      "source": [
        "<h3>Validacao</h3>"
      ]
    },
    {
      "cell_type": "code",
      "metadata": {
        "colab": {
          "base_uri": "https://localhost:8080/"
        },
        "id": "Xte50xrFATwR",
        "outputId": "a28ade15-ea2e-4d5c-fad4-ec7be2ff3c03"
      },
      "source": [
        "from tqdm import tqdm\r\n",
        "input = 2\r\n",
        "output = 5\r\n",
        "hidden = 128\r\n",
        "\r\n",
        "model = MLP(input, hidden, output)\r\n",
        "criterion = torch.nn.CrossEntropyLoss()\r\n",
        "#opt = torch.optim.SGD(model.parameters(), lr=0.01, weight_decay=5e-4)\r\n",
        "opt = torch.optim.Adam(model.parameters(), lr=0.01,weight_decay=5e-4)\r\n",
        "validation_loss = []\r\n",
        "#validation_loss2 = []\r\n",
        "\r\n",
        "for epoch in tqdm(range(100)):\r\n",
        "  train_loss = train(model,x_train,y_train,criterion, opt)\r\n",
        "  validation_loss.append(train_loss)\r\n",
        "  train_acc = validation(model,x_train,y_train)\r\n",
        "  test_acc =  validation(model,x_validation,y_validation)\r\n",
        "  if epoch%10 == 0:\r\n",
        "    print(f'Epoca:{epoch}, Loss: {train_loss:.3f}, test_acc:{test_acc:1f}')\r\n",
        "validation_loss2.append(validation_loss)\r\n"
      ],
      "execution_count": null,
      "outputs": [
        {
          "output_type": "stream",
          "text": [
            "\n",
            "\n",
            "  0%|          | 0/100 [00:00<?, ?it/s]\u001b[A\u001b[A\n",
            "\n",
            " 32%|███▏      | 32/100 [00:00<00:00, 317.59it/s]\u001b[A\u001b[A\n",
            "\n",
            " 63%|██████▎   | 63/100 [00:00<00:00, 315.12it/s]\u001b[A\u001b[A"
          ],
          "name": "stderr"
        },
        {
          "output_type": "stream",
          "text": [
            "Epoca:0, Loss: 1.415, test_acc:96.300000\n",
            "Epoca:10, Loss: 0.341, test_acc:90.600000\n",
            "Epoca:20, Loss: 0.259, test_acc:91.000000\n",
            "Epoca:30, Loss: 0.207, test_acc:91.000000\n",
            "Epoca:40, Loss: 0.167, test_acc:91.100000\n",
            "Epoca:50, Loss: 0.157, test_acc:91.300000\n",
            "Epoca:60, Loss: 0.127, test_acc:91.100000\n"
          ],
          "name": "stdout"
        },
        {
          "output_type": "stream",
          "text": [
            "\n",
            "\n",
            "100%|██████████| 100/100 [00:00<00:00, 294.62it/s]"
          ],
          "name": "stderr"
        },
        {
          "output_type": "stream",
          "text": [
            "Epoca:70, Loss: 0.099, test_acc:91.200000\n",
            "Epoca:80, Loss: 0.104, test_acc:91.100000\n",
            "Epoca:90, Loss: 0.079, test_acc:91.000000\n"
          ],
          "name": "stdout"
        },
        {
          "output_type": "stream",
          "text": [
            "\n"
          ],
          "name": "stderr"
        }
      ]
    },
    {
      "cell_type": "markdown",
      "metadata": {
        "id": "X9r1kGbVDnyV"
      },
      "source": [
        "Foram testados para as seguintes configurações:</br >\r\n",
        "<ol> \r\n",
        "<li>input = 2</br >\r\n",
        "output = 2</br >\r\n",
        "hidden = 88</li>\r\n",
        "\r\n",
        "<li>input = 2</br >\r\n",
        "output = 2</br >\r\n",
        "hidden = 32</li>\r\n",
        "\r\n",
        "<li>input = 2</br >\r\n",
        "output = 2</br >\r\n",
        "hidden = 56</li>\r\n",
        "\r\n",
        "<li>input = 2</br >\r\n",
        "output = 2</br >\r\n",
        "hidden = 66</li>\r\n",
        "\r\n",
        "<li>input = 2</br >\r\n",
        "output = 2</br >\r\n",
        "hidden = 128</li>\r\n",
        "</ol>"
      ]
    },
    {
      "cell_type": "code",
      "metadata": {
        "colab": {
          "base_uri": "https://localhost:8080/",
          "height": 298
        },
        "id": "7eAVZWoH5So7",
        "outputId": "ca13d354-b458-4341-facf-d3455f3ce6f6"
      },
      "source": [
        "import matplotlib.pyplot as plt\r\n",
        "colors = ['r','b','k','g','m','c']\r\n",
        "for i in range(len(validation_loss2)):\r\n",
        "  plt.plot(np.array(validation_loss2[i]),colors[i])\r\n",
        "plt.title('Validation Loss')\r\n",
        "plt.legend(frameon=False)\r\n",
        "plt.show()\r\n"
      ],
      "execution_count": null,
      "outputs": [
        {
          "output_type": "stream",
          "text": [
            "No handles with labels found to put in legend.\n"
          ],
          "name": "stderr"
        },
        {
          "output_type": "display_data",
          "data": {
            "image/png": "[encoded data removed]",
            "text/plain": [
              "<Figure size 432x288 with 1 Axes>"
            ]
          },
          "metadata": {
            "tags": [],
            "needs_background": "light"
          }
        }
      ]
    },
    {
      "cell_type": "markdown",
      "metadata": {
        "id": "OVRY-cECEszC"
      },
      "source": [
        "<h3>Teste</h3>"
      ]
    },
    {
      "cell_type": "code",
      "metadata": {
        "colab": {
          "base_uri": "https://localhost:8080/"
        },
        "id": "7XR29kDG1MNu",
        "outputId": "2808adc8-9f32-4326-cae3-e92925608cdb"
      },
      "source": [
        "input = 2\r\n",
        "output = 2\r\n",
        "hidden = 128\r\n",
        "\r\n",
        "model = MLP(input, hidden,output)\r\n",
        "criterion = torch.nn.CrossEntropyLoss()\r\n",
        "#opt = torch.optim.SGD(model.parameters(), lr=0.01, weight_decay=5e-4)\r\n",
        "opt = torch.optim.Adam(model.parameters(), lr=0.01)\r\n",
        "loss = []\r\n",
        "for epoch in tqdm(range(100)):\r\n",
        "  train_loss = train(model,x_train,y_train,criterion, opt)\r\n",
        "  loss.append(train_loss)\r\n",
        "  train_acc = test(model,x_train,y_train)\r\n",
        "  test_acc =  test(model,x_test,y_test)\r\n",
        "  if epoch%10 == 0:\r\n",
        "    print(f'Epoca:{epoch}, Loss: {train_loss:.3f}')"
      ],
      "execution_count": null,
      "outputs": [
        {
          "output_type": "stream",
          "text": [
            "\n",
            "\n",
            "  0%|          | 0/100 [00:00<?, ?it/s]\u001b[A\u001b[A\n",
            "\n",
            " 32%|███▏      | 32/100 [00:00<00:00, 312.53it/s]\u001b[A\u001b[A\n",
            "\n",
            " 63%|██████▎   | 63/100 [00:00<00:00, 311.34it/s]\u001b[A\u001b[A"
          ],
          "name": "stderr"
        },
        {
          "output_type": "stream",
          "text": [
            "Epoca:0, Loss: 0.704\n",
            "Epoca:10, Loss: 0.323\n",
            "Epoca:20, Loss: 0.231\n",
            "Epoca:30, Loss: 0.204\n",
            "Epoca:40, Loss: 0.175\n",
            "Epoca:50, Loss: 0.147\n",
            "Epoca:60, Loss: 0.116\n"
          ],
          "name": "stdout"
        },
        {
          "output_type": "stream",
          "text": [
            "\n",
            "\n",
            "100%|██████████| 100/100 [00:00<00:00, 290.30it/s]"
          ],
          "name": "stderr"
        },
        {
          "output_type": "stream",
          "text": [
            "Epoca:70, Loss: 0.114\n",
            "Epoca:80, Loss: 0.097\n",
            "Epoca:90, Loss: 0.094\n"
          ],
          "name": "stdout"
        },
        {
          "output_type": "stream",
          "text": [
            "\n"
          ],
          "name": "stderr"
        }
      ]
    },
    {
      "cell_type": "code",
      "metadata": {
        "colab": {
          "base_uri": "https://localhost:8080/",
          "height": 281
        },
        "id": "pVNGPdtsBB7Z",
        "outputId": "4748bc34-4d17-41e6-bce7-a2c5a4aa7889"
      },
      "source": [
        "\r\n",
        "plt.plot(np.array(loss), label='train',color='b')\r\n",
        "#plt.plot(np.array(validation_loss), label='Validation loss',color='r')\r\n",
        "plt.title('Training Loss')\r\n",
        "plt.legend(frameon=False)\r\n",
        "plt.show()\r\n"
      ],
      "execution_count": null,
      "outputs": [
        {
          "output_type": "display_data",
          "data": {
            "image/png": "[encoded data removed]",
            "text/plain": [
              "<Figure size 432x288 with 1 Axes>"
            ]
          },
          "metadata": {
            "tags": [],
            "needs_background": "light"
          }
        }
      ]
    },
    {
      "cell_type": "markdown",
      "metadata": {
        "id": "HfkqOEthIYRq"
      },
      "source": [
        "Conclui-se que a melhor configuração é a que tem maior hidden size\r\n"
      ]
    },
    {
      "cell_type": "code",
      "metadata": {
        "colab": {
          "base_uri": "https://localhost:8080/",
          "height": 319
        },
        "id": "ogg_2aKp8RmF",
        "outputId": "c110e0ee-c588-4ba5-e845-1625303643a8"
      },
      "source": [
        "from sklearn.neural_network import MLPClassifier\r\n",
        "from sklearn.datasets import make_classification\r\n",
        "from sklearn.model_selection import train_test_split\r\n",
        "\r\n",
        "clf = MLPClassifier(random_state=100, max_iter=100).fit(x_train, y_train)\r\n",
        "clf.predict_proba(x_test[:1])\r\n",
        "losses = clf.loss_curve_\r\n",
        "plt.plot(losses)\r\n",
        "plt.plot(np.array(loss), label='train',color='r')\r\n",
        "plt.show()"
      ],
      "execution_count": null,
      "outputs": [
        {
          "output_type": "stream",
          "text": [
            "/usr/local/lib/python3.7/dist-packages/sklearn/neural_network/_multilayer_perceptron.py:571: ConvergenceWarning: Stochastic Optimizer: Maximum iterations (100) reached and the optimization hasn't converged yet.\n",
            "  % self.max_iter, ConvergenceWarning)\n"
          ],
          "name": "stderr"
        },
        {
          "output_type": "display_data",
          "data": {
            "image/png": "[encoded data removed]",
            "text/plain": [
              "<Figure size 432x288 with 1 Axes>"
            ]
          },
          "metadata": {
            "tags": [],
            "needs_background": "light"
          }
        }
      ]
    },
    {
      "cell_type": "markdown",
      "metadata": {
        "id": "L36BJxL2IwUv"
      },
      "source": [
        "Comparação de desempenho com um modelo implementado no SKlearn\r\n"
      ]
    },
    {
      "cell_type": "markdown",
      "metadata": {
        "id": "ek4RURuN_7s6"
      },
      "source": [
        "# 2 Questão\r\n"
      ]
    },
    {
      "cell_type": "markdown",
      "metadata": {
        "id": "LqAiWSHNI-gr"
      },
      "source": [
        "Importando bibliotecas"
      ]
    },
    {
      "cell_type": "code",
      "metadata": {
        "id": "pIU6Hyi6_7II"
      },
      "source": [
        "import torchvision.transforms as transforms\r\n",
        "import torchvision.datasets as dsets"
      ],
      "execution_count": null,
      "outputs": []
    },
    {
      "cell_type": "markdown",
      "metadata": {
        "id": "aJdi-w04JkYa"
      },
      "source": [
        "O dataset escolhido foi o Fashion Mnist, o problema consiste em classificação de roupas sendo estas 10 classes diferentes, ele contem 60 mil imagens para treino e 10 mil para teste. As imagens estão em grayscale e 28x28. "
      ]
    },
    {
      "cell_type": "markdown",
      "metadata": {
        "id": "RKC-qut-JA_Q"
      },
      "source": [
        "Baixando dataset"
      ]
    },
    {
      "cell_type": "code",
      "metadata": {
        "id": "O6KXTTOSHN9a"
      },
      "source": [
        "train_dataset = dsets.FashionMNIST(root='./data',\r\n",
        "                                   train=True,\r\n",
        "                                   transform=transforms.ToTensor(),\r\n",
        "                                   download=True)\r\n",
        "\r\n",
        "test_dataset = dsets.FashionMNIST(root='./data',\r\n",
        "                                  train=False,\r\n",
        "                                  transform=transforms.ToTensor())"
      ],
      "execution_count": null,
      "outputs": []
    },
    {
      "cell_type": "markdown",
      "metadata": {
        "id": "OBpqOm7YK3Wd"
      },
      "source": [
        "Carregando com dataloader"
      ]
    },
    {
      "cell_type": "code",
      "metadata": {
        "id": "5XOY8vQFHwQC"
      },
      "source": [
        "batch_size = 64 #Quantas amostras eu quero pra aproximar o gradiente\r\n",
        "\r\n",
        "train_loader = torch.utils.data.DataLoader(dataset=train_dataset,\r\n",
        "                                           batch_size=batch_size,\r\n",
        "                                           shuffle=True)\r\n",
        "\r\n",
        "test_loader = torch.utils.data.DataLoader(dataset=train_dataset,\r\n",
        "                                          batch_size=batch_size,\r\n",
        "                                          shuffle=False)"
      ],
      "execution_count": null,
      "outputs": []
    },
    {
      "cell_type": "markdown",
      "metadata": {
        "id": "XUCIllr2K-tD"
      },
      "source": [
        "Definindo metodos para treino e teste "
      ]
    },
    {
      "cell_type": "code",
      "metadata": {
        "id": "TmMWTJTDILD2"
      },
      "source": [
        "def train(model,x_train,y_train,criterion,optimizer):\r\n",
        "      \r\n",
        "      optimizer.zero_grad()  # Limpa os gradientes do otimizador\r\n",
        "      out = model(x_train)  # Realiza um passo do forward\r\n",
        "      loss = criterion(out, y_train)  # Computa a loss baseado nos nós de treinamento.\r\n",
        "      loss.backward()  # Deriva os gradients.\r\n",
        "      optimizer.step()  # atualiza os parametros.\r\n",
        "      return loss\r\n",
        "\r\n",
        "@torch.no_grad()\r\n",
        "def test(model,x_test,y_test):\r\n",
        "      model.eval()\r\n",
        "      out = model(x_test)\r\n",
        "      pred = out.argmax(dim=1)  # Usa a classe com a maior probabilidade.\r\n",
        "      test_correct = pred == y_test  # Checando as classes.\r\n",
        "      test_acc = int(test_correct.sum()) / int(np.ravel(y_test.numpy().shape,order='C')[0])  # calculando a acuracia\r\n",
        "      return test_acc\r\n"
      ],
      "execution_count": null,
      "outputs": []
    },
    {
      "cell_type": "code",
      "metadata": {
        "colab": {
          "base_uri": "https://localhost:8080/"
        },
        "id": "HdtLElfgH1Ka",
        "outputId": "8be0d0b2-97cf-40d8-de1e-d5e49d7f16ee"
      },
      "source": [
        "input_dim = 28*28\r\n",
        "output_dim = 10\r\n",
        "hidden_dim = 10\r\n",
        "\r\n",
        "model = MLP(input_dim, hidden_dim, output_dim)\r\n",
        "\r\n",
        "\r\n",
        "criterion = torch.nn.CrossEntropyLoss()\r\n",
        "opt = torch.optim.SGD(model.parameters(), lr = 0.01, weight_decay=5e-4)\r\n",
        "loss = []\r\n",
        "#comparando_loss = []\r\n",
        "for epoch in range(100):\r\n",
        "  model.train()    \r\n",
        "\r\n",
        "  for i, (images, labels) in enumerate(train_loader):\r\n",
        "    images = images.view(-1,28*28)\r\n",
        "    labels = labels\r\n",
        "    train_loss = train(model,images,labels,criterion, opt)\r\n",
        "  loss.append(train_loss)\r\n",
        "  \r\n",
        "  print(f'Epoca:{epoch}, Loss: {train_loss:.3f}')\r\n",
        "\r\n",
        "comparando_loss.append(loss)      \r\n",
        "\r\n",
        " \r\n",
        "\r\n"
      ],
      "execution_count": null,
      "outputs": [
        {
          "output_type": "stream",
          "text": [
            "Epoca:0, Loss: 1.460\n",
            "Epoca:1, Loss: 1.617\n",
            "Epoca:2, Loss: 1.239\n",
            "Epoca:3, Loss: 1.460\n",
            "Epoca:4, Loss: 1.080\n",
            "Epoca:5, Loss: 1.062\n",
            "Epoca:6, Loss: 1.017\n",
            "Epoca:7, Loss: 1.135\n",
            "Epoca:8, Loss: 1.200\n",
            "Epoca:9, Loss: 1.169\n",
            "Epoca:10, Loss: 1.341\n",
            "Epoca:11, Loss: 1.223\n",
            "Epoca:12, Loss: 1.078\n",
            "Epoca:13, Loss: 1.370\n",
            "Epoca:14, Loss: 1.163\n",
            "Epoca:15, Loss: 1.179\n",
            "Epoca:16, Loss: 1.165\n",
            "Epoca:17, Loss: 1.029\n",
            "Epoca:18, Loss: 0.990\n",
            "Epoca:19, Loss: 1.018\n",
            "Epoca:20, Loss: 0.964\n",
            "Epoca:21, Loss: 1.072\n",
            "Epoca:22, Loss: 0.870\n",
            "Epoca:23, Loss: 1.318\n",
            "Epoca:24, Loss: 1.111\n",
            "Epoca:25, Loss: 1.148\n",
            "Epoca:26, Loss: 1.331\n",
            "Epoca:27, Loss: 1.189\n",
            "Epoca:28, Loss: 1.440\n",
            "Epoca:29, Loss: 0.941\n",
            "Epoca:30, Loss: 1.233\n",
            "Epoca:31, Loss: 1.100\n",
            "Epoca:32, Loss: 1.085\n",
            "Epoca:33, Loss: 0.997\n",
            "Epoca:34, Loss: 0.805\n",
            "Epoca:35, Loss: 1.275\n",
            "Epoca:36, Loss: 1.166\n",
            "Epoca:37, Loss: 0.863\n",
            "Epoca:38, Loss: 1.291\n",
            "Epoca:39, Loss: 1.048\n",
            "Epoca:40, Loss: 0.919\n",
            "Epoca:41, Loss: 0.908\n",
            "Epoca:42, Loss: 1.022\n",
            "Epoca:43, Loss: 1.016\n",
            "Epoca:44, Loss: 1.436\n",
            "Epoca:45, Loss: 1.134\n",
            "Epoca:46, Loss: 1.129\n",
            "Epoca:47, Loss: 1.100\n",
            "Epoca:48, Loss: 0.970\n",
            "Epoca:49, Loss: 1.260\n",
            "Epoca:50, Loss: 1.500\n",
            "Epoca:51, Loss: 0.727\n",
            "Epoca:52, Loss: 1.047\n",
            "Epoca:53, Loss: 0.964\n",
            "Epoca:54, Loss: 1.566\n",
            "Epoca:55, Loss: 1.050\n",
            "Epoca:56, Loss: 1.286\n",
            "Epoca:57, Loss: 0.853\n",
            "Epoca:58, Loss: 0.887\n",
            "Epoca:59, Loss: 1.124\n",
            "Epoca:60, Loss: 0.970\n",
            "Epoca:61, Loss: 1.100\n",
            "Epoca:62, Loss: 0.884\n",
            "Epoca:63, Loss: 1.124\n",
            "Epoca:64, Loss: 0.920\n",
            "Epoca:65, Loss: 1.091\n",
            "Epoca:66, Loss: 0.826\n",
            "Epoca:67, Loss: 1.133\n",
            "Epoca:68, Loss: 1.268\n",
            "Epoca:69, Loss: 0.975\n",
            "Epoca:70, Loss: 1.006\n",
            "Epoca:71, Loss: 1.093\n",
            "Epoca:72, Loss: 1.058\n",
            "Epoca:73, Loss: 1.236\n",
            "Epoca:74, Loss: 0.810\n",
            "Epoca:75, Loss: 1.306\n",
            "Epoca:76, Loss: 0.884\n",
            "Epoca:77, Loss: 1.853\n",
            "Epoca:78, Loss: 0.917\n",
            "Epoca:79, Loss: 1.057\n",
            "Epoca:80, Loss: 0.981\n",
            "Epoca:81, Loss: 0.955\n",
            "Epoca:82, Loss: 1.015\n",
            "Epoca:83, Loss: 0.994\n",
            "Epoca:84, Loss: 1.323\n",
            "Epoca:85, Loss: 1.149\n",
            "Epoca:86, Loss: 0.892\n",
            "Epoca:87, Loss: 0.979\n",
            "Epoca:88, Loss: 0.926\n",
            "Epoca:89, Loss: 1.110\n",
            "Epoca:90, Loss: 0.906\n",
            "Epoca:91, Loss: 1.073\n",
            "Epoca:92, Loss: 1.252\n",
            "Epoca:93, Loss: 1.200\n",
            "Epoca:94, Loss: 1.057\n",
            "Epoca:95, Loss: 0.981\n",
            "Epoca:96, Loss: 1.051\n",
            "Epoca:97, Loss: 1.010\n",
            "Epoca:98, Loss: 1.056\n",
            "Epoca:99, Loss: 0.878\n"
          ],
          "name": "stdout"
        }
      ]
    },
    {
      "cell_type": "markdown",
      "metadata": {
        "id": "ApU-0rUCmWxa"
      },
      "source": [
        "Foram testados para as seguintes configurações:</br >\r\n",
        "<ol> \r\n",
        "<li>input_dim = 28*28</br >\r\n",
        "output_dim = 10</br >\r\n",
        "hidden_dim = 100</li>\r\n",
        "\r\n",
        "<li>input_dim = 28*28</br >\r\n",
        "output_dim = 10</br >\r\n",
        "hidden_dim = 32</li>\r\n",
        "\r\n",
        "<li>input_dim = 28*28</br >\r\n",
        "output_dim = 10</br >\r\n",
        "hidden_dim = 10</li>\r\n",
        "</ol>"
      ]
    },
    {
      "cell_type": "code",
      "metadata": {
        "colab": {
          "base_uri": "https://localhost:8080/",
          "height": 298
        },
        "id": "RIz-c4RCJwwN",
        "outputId": "0ca92c6c-52b4-430e-aefa-e033658d0be4"
      },
      "source": [
        "import matplotlib.pyplot as plt\r\n",
        "colors = ['r','b','k','g','m','c']\r\n",
        "for i in range(len(comparando_loss)):\r\n",
        "  plt.plot(np.array(comparando_loss[i]), colors[i])\r\n",
        "#plt.plot(np.array(validation_loss), label='Validation loss',color='r')\r\n",
        "plt.title('Training Loss')\r\n",
        "plt.legend(frameon=False)\r\n",
        "plt.show()\r\n"
      ],
      "execution_count": null,
      "outputs": [
        {
          "output_type": "stream",
          "text": [
            "No handles with labels found to put in legend.\n"
          ],
          "name": "stderr"
        },
        {
          "output_type": "display_data",
          "data": {
            "image/png": "[encoded data removed]",
            "text/plain": [
              "<Figure size 432x288 with 1 Axes>"
            ]
          },
          "metadata": {
            "tags": [],
            "needs_background": "light"
          }
        }
      ]
    }
  ]
}